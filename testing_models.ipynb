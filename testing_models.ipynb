{
 "cells": [
  {
   "cell_type": "markdown",
   "metadata": {},
   "source": [
    "# Testing the models developed and trained"
   ]
  },
  {
   "cell_type": "code",
   "execution_count": 2,
   "metadata": {},
   "outputs": [],
   "source": [
    "import pandas as pd\n",
    "import warnings\n",
    "import numpy as np\n",
    "from tqdm import tqdm\n",
    "from sklearn.metrics import classification_report, confusion_matrix\n",
    "import seaborn as sns\n",
    "import matplotlib.pyplot as plt\n",
    "import re\n",
    "from unidecode import unidecode\n",
    "from nltk.tokenize import word_tokenize\n",
    "from tensorflow.keras.preprocessing.sequence import pad_sequences\n",
    "import json\n",
    "from tensorflow.keras.preprocessing.text import tokenizer_from_json\n",
    "warnings.filterwarnings('ignore')\n"
   ]
  },
  {
   "cell_type": "code",
   "execution_count": 2,
   "metadata": {},
   "outputs": [
    {
     "data": {
      "text/html": [
       "<div>\n",
       "<style scoped>\n",
       "    .dataframe tbody tr th:only-of-type {\n",
       "        vertical-align: middle;\n",
       "    }\n",
       "\n",
       "    .dataframe tbody tr th {\n",
       "        vertical-align: top;\n",
       "    }\n",
       "\n",
       "    .dataframe thead th {\n",
       "        text-align: right;\n",
       "    }\n",
       "</style>\n",
       "<table border=\"1\" class=\"dataframe\">\n",
       "  <thead>\n",
       "    <tr style=\"text-align: right;\">\n",
       "      <th></th>\n",
       "      <th>review_text_processed</th>\n",
       "      <th>review_text_tokenized</th>\n",
       "      <th>polarity</th>\n",
       "    </tr>\n",
       "  </thead>\n",
       "  <tbody>\n",
       "    <tr>\n",
       "      <th>0</th>\n",
       "      <td>bem macio e felpudo...recomendo.  preco imbati...</td>\n",
       "      <td>['bem', 'macio', 'felpudo', 'recomendo', 'prec...</td>\n",
       "      <td>1</td>\n",
       "    </tr>\n",
       "    <tr>\n",
       "      <th>1</th>\n",
       "      <td>produto excepcional!  recomendo!!! inovador e ...</td>\n",
       "      <td>['produto', 'excepcional', 'recomendo', 'inova...</td>\n",
       "      <td>1</td>\n",
       "    </tr>\n",
       "    <tr>\n",
       "      <th>2</th>\n",
       "      <td>recebi o produto antes do prazo mas veio com d...</td>\n",
       "      <td>['recebi', 'produto', 'antes', 'do', 'prazo', ...</td>\n",
       "      <td>0</td>\n",
       "    </tr>\n",
       "    <tr>\n",
       "      <th>3</th>\n",
       "      <td>bom custo beneficio. adequado para pessoas que...</td>\n",
       "      <td>['bom', 'custo', 'beneficio', 'adequado', 'par...</td>\n",
       "      <td>1</td>\n",
       "    </tr>\n",
       "    <tr>\n",
       "      <th>4</th>\n",
       "      <td>otmo produto atendeu as expectativas, a entreg...</td>\n",
       "      <td>['otmo', 'produto', 'atendeu', 'as', 'expectat...</td>\n",
       "      <td>1</td>\n",
       "    </tr>\n",
       "    <tr>\n",
       "      <th>...</th>\n",
       "      <td>...</td>\n",
       "      <td>...</td>\n",
       "      <td>...</td>\n",
       "    </tr>\n",
       "    <tr>\n",
       "      <th>1196615</th>\n",
       "      <td>excelente custo-beneficio apresentado por este...</td>\n",
       "      <td>['excelente', 'custo', 'beneficio', 'apresenta...</td>\n",
       "      <td>1</td>\n",
       "    </tr>\n",
       "    <tr>\n",
       "      <th>1196616</th>\n",
       "      <td>game muito legal, com uma grande variedade de ...</td>\n",
       "      <td>['game', 'muito', 'legal', 'com', 'uma', 'gran...</td>\n",
       "      <td>1</td>\n",
       "    </tr>\n",
       "    <tr>\n",
       "      <th>1196617</th>\n",
       "      <td>produto muito bom, simples e barato</td>\n",
       "      <td>['produto', 'muito', 'bom', 'simples', 'barato']</td>\n",
       "      <td>1</td>\n",
       "    </tr>\n",
       "    <tr>\n",
       "      <th>1196618</th>\n",
       "      <td>esse jogo e muito maneiro e um jogo onde vc te...</td>\n",
       "      <td>['esse', 'jogo', 'muito', 'maneiro', 'um', 'jo...</td>\n",
       "      <td>1</td>\n",
       "    </tr>\n",
       "    <tr>\n",
       "      <th>1196619</th>\n",
       "      <td>meu irmao possui um e acho excelente, estou ec...</td>\n",
       "      <td>['meu', 'irmao', 'possui', 'um', 'acho', 'exce...</td>\n",
       "      <td>1</td>\n",
       "    </tr>\n",
       "  </tbody>\n",
       "</table>\n",
       "<p>1196620 rows × 3 columns</p>\n",
       "</div>"
      ],
      "text/plain": [
       "                                     review_text_processed  \\\n",
       "0        bem macio e felpudo...recomendo.  preco imbati...   \n",
       "1        produto excepcional!  recomendo!!! inovador e ...   \n",
       "2        recebi o produto antes do prazo mas veio com d...   \n",
       "3        bom custo beneficio. adequado para pessoas que...   \n",
       "4        otmo produto atendeu as expectativas, a entreg...   \n",
       "...                                                    ...   \n",
       "1196615  excelente custo-beneficio apresentado por este...   \n",
       "1196616  game muito legal, com uma grande variedade de ...   \n",
       "1196617                produto muito bom, simples e barato   \n",
       "1196618  esse jogo e muito maneiro e um jogo onde vc te...   \n",
       "1196619  meu irmao possui um e acho excelente, estou ec...   \n",
       "\n",
       "                                     review_text_tokenized  polarity  \n",
       "0        ['bem', 'macio', 'felpudo', 'recomendo', 'prec...         1  \n",
       "1        ['produto', 'excepcional', 'recomendo', 'inova...         1  \n",
       "2        ['recebi', 'produto', 'antes', 'do', 'prazo', ...         0  \n",
       "3        ['bom', 'custo', 'beneficio', 'adequado', 'par...         1  \n",
       "4        ['otmo', 'produto', 'atendeu', 'as', 'expectat...         1  \n",
       "...                                                    ...       ...  \n",
       "1196615  ['excelente', 'custo', 'beneficio', 'apresenta...         1  \n",
       "1196616  ['game', 'muito', 'legal', 'com', 'uma', 'gran...         1  \n",
       "1196617   ['produto', 'muito', 'bom', 'simples', 'barato']         1  \n",
       "1196618  ['esse', 'jogo', 'muito', 'maneiro', 'um', 'jo...         1  \n",
       "1196619  ['meu', 'irmao', 'possui', 'um', 'acho', 'exce...         1  \n",
       "\n",
       "[1196620 rows x 3 columns]"
      ]
     },
     "execution_count": 2,
     "metadata": {},
     "output_type": "execute_result"
    }
   ],
   "source": [
    "df = pd.read_csv('concat_reviews.csv')\n",
    "df.dropna(inplace=True)\n",
    "df.drop(columns=['dataset', 'original_index', 'review_text', 'rating', 'kfold_polarity', 'kfold_rating'], inplace=True)\n",
    "df.reset_index(drop=True, inplace=True)\n",
    "df['polarity'] = df['polarity'].astype(int)\n",
    "df\n"
   ]
  },
  {
   "cell_type": "code",
   "execution_count": 3,
   "metadata": {},
   "outputs": [
    {
     "name": "stderr",
     "output_type": "stream",
     "text": [
      "100%|██████████| 1196620/1196620 [02:04<00:00, 9581.68it/s] \n"
     ]
    }
   ],
   "source": [
    "df['final'] = np.zeros(len(df))\n",
    "for i in tqdm(range(len(df))):\n",
    "    df['final'].iloc[i] = \" \".join(eval(df['review_text_tokenized'].iloc[i]))\n"
   ]
  },
  {
   "cell_type": "code",
   "execution_count": 4,
   "metadata": {},
   "outputs": [],
   "source": [
    "X = df['final']\n",
    "y = df['polarity']\n"
   ]
  },
  {
   "cell_type": "code",
   "execution_count": 5,
   "metadata": {},
   "outputs": [],
   "source": [
    "# Real reviews from random products\n",
    "input_texts = [\n",
    "    'Melhor biquini que ja comprei na shopee até hoje, achei o M bem grande, só não posso abusar no sol. Tecido e costura perfeitos! Compraria novamente',\n",
    "    'O biquíni todo descosturado, qualidade do material também não gostei muito, pelo valor que paguei poderia ser melhor. Achei falta de respeito com o cliente. Não recomendo essa loja. Apenas as cores que foi como pedi.',\n",
    "    'O produto veio muito bem embalado.Chegou em perfeitas condições e antes do prazo estabelecido.   O teclado é perfeito, igual ao anúncio.  Fácil de instalar e usar. Super recomendo.',\n",
    "    'Teclado fiel ao anúncio porem infelizmente dei o azar de vir com defeito, duas teclas nao funcionam direito e infelizmente não é possivel trocar o switch chateado pois perdi dinheiro, imagino que a maioria dos teclados chegou certinho, mas n dei muita sorte, tirando isso o produto tem uma boa qualidade',\n",
    "    'Produto com qualidade, não é transparente, recomendo',\n",
    "    'Tecido fino, mas pelo valor pago está valendo. Parabéns no prazo de entrega. Chegou em menos de uma semana sendo de outro estado',\n",
    "    'Não comprem mais que uma peça! Eles não mandam tudo como no anúncio, mandaram uma cinza como no anúncio e outras duas preta e azul escuro que são inferiores de material ruim, fino, transparente... Infelizmente não tem troco nem devolução do dinheiro então teria que devolver tudo, no geral foi uma experiência ruim.'\n",
    "]\n",
    "\n",
    "# Labels\n",
    "correct = [1, 0, 1, 0, 1, 1, 0]\n"
   ]
  },
  {
   "cell_type": "code",
   "execution_count": null,
   "metadata": {},
   "outputs": [],
   "source": [
    "f = open('tokenizer_config.json')\n",
    "tokenizer_config = json.load(f)\n",
    "tokenizer = tokenizer_from_json(tokenizer_config)\n"
   ]
  },
  {
   "cell_type": "code",
   "execution_count": 110,
   "metadata": {},
   "outputs": [],
   "source": [
    "# Function that receives a string and process it to the way the model was trained\n",
    "def preprocess(text):\n",
    "    input_text = text.lower()\n",
    "    input_text = unidecode(input_text)\n",
    "    input_text = re.sub(r'[^a-zA-Z]', ' ', input_text)\n",
    "    input_text = word_tokenize(input_text)\n",
    "    input_text = ' '.join(input_text)\n",
    "    input_text = tokenizer.texts_to_sequences([input_text])\n",
    "    input_text = pad_sequences(input_text, maxlen=500, padding='pre')\n",
    "    return input_text\n"
   ]
  },
  {
   "cell_type": "markdown",
   "metadata": {},
   "source": [
    "# MLP with embedding and pooling "
   ]
  },
  {
   "cell_type": "code",
   "execution_count": 1,
   "metadata": {},
   "outputs": [],
   "source": [
    "from tensorflow.keras.models import Sequential\n",
    "from tensorflow.keras.layers import Dense, Dropout, Embedding, GlobalAvgPool1D\n"
   ]
  },
  {
   "cell_type": "code",
   "execution_count": 2,
   "metadata": {},
   "outputs": [
    {
     "name": "stdout",
     "output_type": "stream",
     "text": [
      "Model: \"MLP\"\n",
      "_________________________________________________________________\n",
      " Layer (type)                Output Shape              Param #   \n",
      "=================================================================\n",
      " embedding (Embedding)       (None, 500, 16)           160000    \n",
      "                                                                 \n",
      " dropout (Dropout)           (None, 500, 16)           0         \n",
      "                                                                 \n",
      " global_average_pooling1d (  (None, 16)                0         \n",
      " GlobalAveragePooling1D)                                         \n",
      "                                                                 \n",
      " dropout_1 (Dropout)         (None, 16)                0         \n",
      "                                                                 \n",
      " dense (Dense)               (None, 1)                 17        \n",
      "                                                                 \n",
      "=================================================================\n",
      "Total params: 160017 (625.07 KB)\n",
      "Trainable params: 160017 (625.07 KB)\n",
      "Non-trainable params: 0 (0.00 Byte)\n",
      "_________________________________________________________________\n"
     ]
    }
   ],
   "source": [
    "mlp1 = Sequential(name='MLP')\n",
    "mlp1.add(Embedding(10000, 16, input_length=500))\n",
    "mlp1.add(Dropout(0.2))\n",
    "mlp1.add(GlobalAvgPool1D())\n",
    "mlp1.add(Dropout(0.4))\n",
    "mlp1.add(Dense(1, activation='sigmoid'))\n",
    "mlp1.load_weights('MLP/weights_mlp.h5')\n",
    "mlp1.summary()\n"
   ]
  },
  {
   "cell_type": "code",
   "execution_count": 109,
   "metadata": {},
   "outputs": [],
   "source": [
    "f = open('tokenizer_config.json')\n",
    "tokenizer_config = json.load(f)\n",
    "tokenizer = tokenizer_from_json(tokenizer_config)\n"
   ]
  },
  {
   "cell_type": "markdown",
   "metadata": {},
   "source": [
    "## Simple Example"
   ]
  },
  {
   "cell_type": "code",
   "execution_count": 111,
   "metadata": {},
   "outputs": [],
   "source": [
    "input_texts_nn = [preprocess(text) for text in input_texts]\n"
   ]
  },
  {
   "cell_type": "code",
   "execution_count": 112,
   "metadata": {},
   "outputs": [
    {
     "name": "stdout",
     "output_type": "stream",
     "text": [
      "Input: Melhor biquini que ja comprei na shopee até hoje, achei o M bem grande, só não posso abusar no sol. Tecido e costura perfeitos! Compraria novamente\n",
      "Output: 1\t Correct: 1\n",
      "\n",
      "Input: O biquíni todo descosturado, qualidade do material também não gostei muito, pelo valor que paguei poderia ser melhor. Achei falta de respeito com o cliente. Não recomendo essa loja. Apenas as cores que foi como pedi.\n",
      "Output: 0\t Correct: 0\n",
      "\n",
      "Input: O produto veio muito bem embalado.Chegou em perfeitas condições e antes do prazo estabelecido.   O teclado é perfeito, igual ao anúncio.  Fácil de instalar e usar. Super recomendo.\n",
      "Output: 1\t Correct: 1\n",
      "\n",
      "Input: Teclado fiel ao anúncio porem infelizmente dei o azar de vir com defeito, duas teclas nao funcionam direito e infelizmente não é possivel trocar o switch chateado pois perdi dinheiro, imagino que a maioria dos teclados chegou certinho, mas n dei muita sorte, tirando isso o produto tem uma boa qualidade\n",
      "Output: 0\t Correct: 0\n",
      "\n",
      "Input: Produto com qualidade, não é transparente, recomendo\n",
      "Output: 1\t Correct: 1\n",
      "\n",
      "Input: Tecido fino, mas pelo valor pago está valendo. Parabéns no prazo de entrega. Chegou em menos de uma semana sendo de outro estado\n",
      "Output: 1\t Correct: 1\n",
      "\n",
      "Input: Não comprem mais que uma peça! Eles não mandam tudo como no anúncio, mandaram uma cinza como no anúncio e outras duas preta e azul escuro que são inferiores de material ruim, fino, transparente... Infelizmente não tem troco nem devolução do dinheiro então teria que devolver tudo, no geral foi uma experiência ruim.\n",
      "Output: 0\t Correct: 0\n",
      "\n"
     ]
    }
   ],
   "source": [
    "for i in range(len(input_texts)):\n",
    "    print(f'Input: {input_texts[i]}')\n",
    "    print(f'Output: {1 if mlp1.predict(input_texts_nn[i], verbose=0)[0][0] >= 0.5 else 0}\\t Correct: {correct[i]}\\n')\n"
   ]
  },
  {
   "cell_type": "markdown",
   "metadata": {},
   "source": [
    "## Huge Example"
   ]
  },
  {
   "cell_type": "code",
   "execution_count": 113,
   "metadata": {},
   "outputs": [
    {
     "name": "stderr",
     "output_type": "stream",
     "text": [
      "100%|██████████| 1196620/1196620 [02:30<00:00, 7946.19it/s]\n"
     ]
    }
   ],
   "source": [
    "nn_tokens = [preprocess(X[i]) for i in tqdm(range(len(X)))]\n"
   ]
  },
  {
   "cell_type": "code",
   "execution_count": 114,
   "metadata": {},
   "outputs": [],
   "source": [
    "pred = mlp1.predict(np.array(nn_tokens).reshape(-1, 500), verbose=None)\n",
    "pred = np.where(pred >= 0.5, 1, 0).reshape(-1)\n"
   ]
  },
  {
   "cell_type": "code",
   "execution_count": 115,
   "metadata": {},
   "outputs": [
    {
     "data": {
      "text/plain": [
       "92.56305259815146"
      ]
     },
     "execution_count": 115,
     "metadata": {},
     "output_type": "execute_result"
    }
   ],
   "source": [
    "(sum(pred == y) / len(y)) * 100\n"
   ]
  },
  {
   "cell_type": "code",
   "execution_count": 116,
   "metadata": {},
   "outputs": [
    {
     "name": "stdout",
     "output_type": "stream",
     "text": [
      "              precision    recall  f1-score   support\n",
      "\n",
      "           0       0.85      0.82      0.83    272090\n",
      "           1       0.95      0.96      0.95    924530\n",
      "\n",
      "    accuracy                           0.93   1196620\n",
      "   macro avg       0.90      0.89      0.89   1196620\n",
      "weighted avg       0.92      0.93      0.93   1196620\n",
      "\n"
     ]
    }
   ],
   "source": [
    "print(classification_report(y, pred))\n"
   ]
  },
  {
   "cell_type": "code",
   "execution_count": 117,
   "metadata": {},
   "outputs": [
    {
     "data": {
      "image/png": "[encoded data removed]",
      "text/plain": [
       "<Figure size 400x300 with 2 Axes>"
      ]
     },
     "metadata": {},
     "output_type": "display_data"
    }
   ],
   "source": [
    "plt.figure(figsize=(4, 3))\n",
    "sns.heatmap(confusion_matrix(y, pred),\n",
    "                annot=True,\n",
    "                fmt='.0f',\n",
    "                annot_kws={'fontsize': 10, 'fontweight': 'bold'},\n",
    "                cmap='PuRd',\n",
    "                xticklabels=list(range(2)),\n",
    "                yticklabels=list(range(2)))\n",
    "plt.title('Confusion Matrix', fontsize=16, fontweight='bold')\n",
    "plt.xlabel('Predicted', fontsize=14)\n",
    "plt.ylabel('Real', fontsize=14)\n",
    "plt.yticks(rotation=0);\n"
   ]
  },
  {
   "cell_type": "markdown",
   "metadata": {},
   "source": [
    "# MLP with embedding and pooling 2\n",
    "On that model I added one more dense layer"
   ]
  },
  {
   "cell_type": "code",
   "execution_count": 1,
   "metadata": {},
   "outputs": [],
   "source": [
    "from tensorflow.keras.models import Sequential\n",
    "from tensorflow.keras.layers import Dense, Dropout, Embedding, GlobalAvgPool1D\n"
   ]
  },
  {
   "cell_type": "code",
   "execution_count": 2,
   "metadata": {},
   "outputs": [
    {
     "name": "stdout",
     "output_type": "stream",
     "text": [
      "Model: \"MLP2\"\n",
      "_________________________________________________________________\n",
      " Layer (type)                Output Shape              Param #   \n",
      "=================================================================\n"
     ]
    },
    {
     "name": "stdout",
     "output_type": "stream",
     "text": [
      " embedding (Embedding)       (None, 500, 16)           160000    \n",
      "                                                                 \n",
      " dropout (Dropout)           (None, 500, 16)           0         \n",
      "                                                                 \n",
      " global_average_pooling1d (  (None, 16)                0         \n",
      " GlobalAveragePooling1D)                                         \n",
      "                                                                 \n",
      " dropout_1 (Dropout)         (None, 16)                0         \n",
      "                                                                 \n",
      " dense (Dense)               (None, 64)                1088      \n",
      "                                                                 \n",
      " dense_1 (Dense)             (None, 1)                 65        \n",
      "                                                                 \n",
      "=================================================================\n",
      "Total params: 161153 (629.50 KB)\n",
      "Trainable params: 161153 (629.50 KB)\n",
      "Non-trainable params: 0 (0.00 Byte)\n",
      "_________________________________________________________________\n"
     ]
    }
   ],
   "source": [
    "# Creating the Model\n",
    "mlp2 = Sequential(name='MLP2')\n",
    "mlp2.add(Embedding(10000, 16, input_length=500))\n",
    "mlp2.add(Dropout(0.2))\n",
    "mlp2.add(GlobalAvgPool1D())\n",
    "mlp2.add(Dropout(0.3))\n",
    "mlp2.add(Dense(64, activation='relu'))\n",
    "mlp2.add(Dense(1, activation='sigmoid'))\n",
    "mlp2.load_weights('MLP/weights_mlp2.h5')\n",
    "mlp2.summary()\n"
   ]
  },
  {
   "cell_type": "code",
   "execution_count": 63,
   "metadata": {},
   "outputs": [],
   "source": [
    "f = open('tokenizer_config.json')\n",
    "tokenizer_config = json.load(f)\n",
    "tokenizer = tokenizer_from_json(tokenizer_config)\n"
   ]
  },
  {
   "cell_type": "markdown",
   "metadata": {},
   "source": [
    "## Small Example"
   ]
  },
  {
   "cell_type": "code",
   "execution_count": 69,
   "metadata": {},
   "outputs": [],
   "source": [
    "input_texts_nn = [preprocess(text) for text in input_texts]\n"
   ]
  },
  {
   "cell_type": "code",
   "execution_count": 76,
   "metadata": {},
   "outputs": [
    {
     "name": "stdout",
     "output_type": "stream",
     "text": [
      "Input: Melhor biquini que ja comprei na shopee até hoje, achei o M bem grande, só não posso abusar no sol. Tecido e costura perfeitos! Compraria novamente\n",
      "Output: 1\t Correct: 1\n",
      "\n",
      "Input: O biquíni todo descosturado, qualidade do material também não gostei muito, pelo valor que paguei poderia ser melhor. Achei falta de respeito com o cliente. Não recomendo essa loja. Apenas as cores que foi como pedi.\n",
      "Output: 0\t Correct: 0\n",
      "\n",
      "Input: O produto veio muito bem embalado.Chegou em perfeitas condições e antes do prazo estabelecido.   O teclado é perfeito, igual ao anúncio.  Fácil de instalar e usar. Super recomendo.\n",
      "Output: 1\t Correct: 1\n",
      "\n",
      "Input: Teclado fiel ao anúncio porem infelizmente dei o azar de vir com defeito, duas teclas nao funcionam direito e infelizmente não é possivel trocar o switch chateado pois perdi dinheiro, imagino que a maioria dos teclados chegou certinho, mas n dei muita sorte, tirando isso o produto tem uma boa qualidade\n",
      "Output: 0\t Correct: 0\n",
      "\n",
      "Input: Produto com qualidade, não é transparente, recomendo\n",
      "Output: 0\t Correct: 1\n",
      "\n",
      "Input: Tecido fino, mas pelo valor pago está valendo. Parabéns no prazo de entrega. Chegou em menos de uma semana sendo de outro estado\n",
      "Output: 0\t Correct: 1\n",
      "\n",
      "Input: Não comprem mais que uma peça! Eles não mandam tudo como no anúncio, mandaram uma cinza como no anúncio e outras duas preta e azul escuro que são inferiores de material ruim, fino, transparente... Infelizmente não tem troco nem devolução do dinheiro então teria que devolver tudo, no geral foi uma experiência ruim.\n",
      "Output: 0\t Correct: 0\n",
      "\n"
     ]
    }
   ],
   "source": [
    "for i in range(len(input_texts)):\n",
    "    print(f'Input: {input_texts[i]}')\n",
    "    print(f'Output: {1 if mlp2.predict(input_texts_nn[i], verbose=0)[0][0] >= 0.5 else 0}\\t Correct: {correct[i]}\\n')\n"
   ]
  },
  {
   "cell_type": "markdown",
   "metadata": {},
   "source": [
    "## Huge Example"
   ]
  },
  {
   "cell_type": "code",
   "execution_count": 93,
   "metadata": {},
   "outputs": [
    {
     "name": "stderr",
     "output_type": "stream",
     "text": [
      "100%|██████████| 1196620/1196620 [03:08<00:00, 6344.64it/s]\n"
     ]
    }
   ],
   "source": [
    "nn_tokens = [preprocess(X[i]) for i in tqdm(range(len(X)))]\n"
   ]
  },
  {
   "cell_type": "code",
   "execution_count": 94,
   "metadata": {},
   "outputs": [],
   "source": [
    "pred = mlp2.predict(np.array(nn_tokens).reshape(-1, 500), verbose=None)\n",
    "pred = np.where(pred >= 0.5, 1, 0).reshape(-1)\n"
   ]
  },
  {
   "cell_type": "code",
   "execution_count": 103,
   "metadata": {},
   "outputs": [
    {
     "data": {
      "text/plain": [
       "93.32001805084322"
      ]
     },
     "execution_count": 103,
     "metadata": {},
     "output_type": "execute_result"
    }
   ],
   "source": [
    "(sum(pred == y) / len(y)) * 100\n"
   ]
  },
  {
   "cell_type": "code",
   "execution_count": 104,
   "metadata": {},
   "outputs": [
    {
     "name": "stdout",
     "output_type": "stream",
     "text": [
      "              precision    recall  f1-score   support\n",
      "\n",
      "           0       0.85      0.86      0.85    272090\n",
      "           1       0.96      0.96      0.96    924530\n",
      "\n",
      "    accuracy                           0.93   1196620\n",
      "   macro avg       0.90      0.91      0.91   1196620\n",
      "weighted avg       0.93      0.93      0.93   1196620\n",
      "\n"
     ]
    }
   ],
   "source": [
    "print(classification_report(y, pred))\n"
   ]
  },
  {
   "cell_type": "code",
   "execution_count": 105,
   "metadata": {},
   "outputs": [
    {
     "data": {
      "image/png": "[encoded data removed]",
      "text/plain": [
       "<Figure size 400x300 with 2 Axes>"
      ]
     },
     "metadata": {},
     "output_type": "display_data"
    }
   ],
   "source": [
    "plt.figure(figsize=(4, 3))\n",
    "sns.heatmap(confusion_matrix(y, pred),\n",
    "                annot=True,\n",
    "                fmt='.0f',\n",
    "                annot_kws={'fontsize': 10, 'fontweight': 'bold'},\n",
    "                cmap='PuRd',\n",
    "                xticklabels=list(range(2)),\n",
    "                yticklabels=list(range(2)))\n",
    "plt.title('Confusion Matrix', fontsize=16, fontweight='bold')\n",
    "plt.xlabel('Predicted', fontsize=14)\n",
    "plt.ylabel('Real', fontsize=14)\n",
    "plt.yticks(rotation=0);\n"
   ]
  },
  {
   "cell_type": "markdown",
   "metadata": {},
   "source": [
    "# Convolutional layers with embeddings and pooling"
   ]
  },
  {
   "cell_type": "code",
   "execution_count": 1,
   "metadata": {},
   "outputs": [],
   "source": [
    "from tensorflow.keras.models import Sequential\n",
    "from tensorflow.keras.layers import Dense, Conv1D, Embedding, GlobalMaxPool1D, Input, Flatten, BatchNormalization, MaxPool1D\n"
   ]
  },
  {
   "cell_type": "code",
   "execution_count": 2,
   "metadata": {},
   "outputs": [
    {
     "name": "stdout",
     "output_type": "stream",
     "text": [
      "Model: \"CNN\"\n",
      "_________________________________________________________________\n",
      " Layer (type)                Output Shape              Param #   \n",
      "=================================================================\n",
      " embedding (Embedding)       (None, 500, 64)           640000    \n",
      "                                                                 \n",
      " conv1d (Conv1D)             (None, 498, 64)           12352     \n",
      "                                                                 \n",
      " batch_normalization (Batch  (None, 498, 64)           256       \n",
      " Normalization)                                                  \n",
      "                                                                 \n",
      " max_pooling1d (MaxPooling1  (None, 166, 64)           0         \n",
      " D)                                                              \n",
      "                                                                 \n",
      " conv1d_1 (Conv1D)           (None, 162, 64)           20544     \n",
      "                                                                 \n",
      " batch_normalization_1 (Bat  (None, 162, 64)           256       \n",
      " chNormalization)                                                \n",
      "                                                                 \n",
      " max_pooling1d_1 (MaxPoolin  (None, 32, 64)            0         \n",
      " g1D)                                                            \n",
      "                                                                 \n",
      " conv1d_2 (Conv1D)           (None, 28, 64)            20544     \n",
      "                                                                 \n",
      " global_max_pooling1d (Glob  (None, 64)                0         \n",
      " alMaxPooling1D)                                                 \n",
      "                                                                 \n",
      " flatten (Flatten)           (None, 64)                0         \n",
      "                                                                 \n",
      " dense (Dense)               (None, 100)               6500      \n",
      "                                                                 \n",
      " dense_1 (Dense)             (None, 1)                 101       \n",
      "                                                                 \n",
      "=================================================================\n",
      "Total params: 700553 (2.67 MB)\n",
      "Trainable params: 700297 (2.67 MB)\n",
      "Non-trainable params: 256 (1.00 KB)\n",
      "_________________________________________________________________\n"
     ]
    }
   ],
   "source": [
    "cnn = Sequential(name='CNN')\n",
    "cnn.add(Input(shape=(500,)))\n",
    "cnn.add(Embedding(10000, 64))\n",
    "cnn.add(Conv1D(64, 3, activation='relu'))\n",
    "cnn.add(BatchNormalization())\n",
    "cnn.add(MaxPool1D(3))\n",
    "cnn.add(Conv1D(64, 5, activation='relu'))\n",
    "cnn.add(BatchNormalization())\n",
    "cnn.add(MaxPool1D(5))\n",
    "cnn.add(Conv1D(64, 5, activation='relu'))\n",
    "cnn.add(GlobalMaxPool1D())\n",
    "cnn.add(Flatten())\n",
    "cnn.add(Dense(100, activation='relu'))\n",
    "cnn.add(Dense(1, activation='sigmoid'))\n",
    "cnn.load_weights('CNN/weights_CNN.h5')\n",
    "cnn.summary()\n"
   ]
  },
  {
   "cell_type": "code",
   "execution_count": 37,
   "metadata": {},
   "outputs": [],
   "source": [
    "f = open('tokenizer_config.json')\n",
    "tokenizer_config = json.load(f)\n",
    "tokenizer = tokenizer_from_json(tokenizer_config)\n"
   ]
  },
  {
   "cell_type": "markdown",
   "metadata": {},
   "source": [
    "## Small Example"
   ]
  },
  {
   "cell_type": "code",
   "execution_count": 39,
   "metadata": {},
   "outputs": [],
   "source": [
    "input_texts_nn = [preprocess(text) for text in input_texts]\n"
   ]
  },
  {
   "cell_type": "code",
   "execution_count": 40,
   "metadata": {},
   "outputs": [
    {
     "name": "stdout",
     "output_type": "stream",
     "text": [
      "Input: Melhor biquini que ja comprei na shopee até hoje, achei o M bem grande, só não posso abusar no sol. Tecido e costura perfeitos! Compraria novamente\n",
      "Output: 1\t Correct: 1\n",
      "\n",
      "Input: O biquíni todo descosturado, qualidade do material também não gostei muito, pelo valor que paguei poderia ser melhor. Achei falta de respeito com o cliente. Não recomendo essa loja. Apenas as cores que foi como pedi.\n",
      "Output: 0\t Correct: 0\n",
      "\n",
      "Input: O produto veio muito bem embalado.Chegou em perfeitas condições e antes do prazo estabelecido.   O teclado é perfeito, igual ao anúncio.  Fácil de instalar e usar. Super recomendo.\n",
      "Output: 1\t Correct: 1\n",
      "\n",
      "Input: Teclado fiel ao anúncio porem infelizmente dei o azar de vir com defeito, duas teclas nao funcionam direito e infelizmente não é possivel trocar o switch chateado pois perdi dinheiro, imagino que a maioria dos teclados chegou certinho, mas n dei muita sorte, tirando isso o produto tem uma boa qualidade\n",
      "Output: 0\t Correct: 0\n",
      "\n",
      "Input: Produto com qualidade, não é transparente, recomendo\n",
      "Output: 1\t Correct: 1\n",
      "\n",
      "Input: Tecido fino, mas pelo valor pago está valendo. Parabéns no prazo de entrega. Chegou em menos de uma semana sendo de outro estado\n",
      "Output: 1\t Correct: 1\n",
      "\n",
      "Input: Não comprem mais que uma peça! Eles não mandam tudo como no anúncio, mandaram uma cinza como no anúncio e outras duas preta e azul escuro que são inferiores de material ruim, fino, transparente... Infelizmente não tem troco nem devolução do dinheiro então teria que devolver tudo, no geral foi uma experiência ruim.\n",
      "Output: 0\t Correct: 0\n",
      "\n"
     ]
    }
   ],
   "source": [
    "for i in range(len(input_texts)):\n",
    "    print(f'Input: {input_texts[i]}')\n",
    "    print(f'Output: {1 if cnn.predict(input_texts_nn[i], verbose=0)[0][0] >= 0.5 else 0}\\t Correct: {correct[i]}\\n')\n"
   ]
  },
  {
   "cell_type": "markdown",
   "metadata": {},
   "source": [
    "## Huge Example"
   ]
  },
  {
   "cell_type": "code",
   "execution_count": 30,
   "metadata": {},
   "outputs": [
    {
     "name": "stderr",
     "output_type": "stream",
     "text": [
      "100%|██████████| 1196620/1196620 [02:26<00:00, 8146.69it/s]\n"
     ]
    }
   ],
   "source": [
    "nn_2_tokens = [preprocess(X[i]) for i in tqdm(range(len(X)))]\n"
   ]
  },
  {
   "cell_type": "code",
   "execution_count": 31,
   "metadata": {},
   "outputs": [],
   "source": [
    "pred = cnn.predict(np.array(nn_2_tokens).reshape(-1, 500), verbose=None)\n",
    "pred = np.where(pred >= 0.5, 1, 0).reshape(-1)\n"
   ]
  },
  {
   "cell_type": "code",
   "execution_count": 32,
   "metadata": {},
   "outputs": [
    {
     "data": {
      "text/plain": [
       "90.57888051344621"
      ]
     },
     "execution_count": 32,
     "metadata": {},
     "output_type": "execute_result"
    }
   ],
   "source": [
    "(sum(pred == y) / len(y)) * 100\n"
   ]
  },
  {
   "cell_type": "code",
   "execution_count": 33,
   "metadata": {},
   "outputs": [
    {
     "name": "stdout",
     "output_type": "stream",
     "text": [
      "              precision    recall  f1-score   support\n",
      "\n",
      "           0       0.86      0.70      0.77    272090\n",
      "           1       0.92      0.97      0.94    924530\n",
      "\n",
      "    accuracy                           0.91   1196620\n",
      "   macro avg       0.89      0.83      0.86   1196620\n",
      "weighted avg       0.90      0.91      0.90   1196620\n",
      "\n"
     ]
    }
   ],
   "source": [
    "print(classification_report(y, pred))\n"
   ]
  },
  {
   "cell_type": "code",
   "execution_count": 34,
   "metadata": {},
   "outputs": [
    {
     "data": {
      "image/png": "[encoded data removed]",
      "text/plain": [
       "<Figure size 400x300 with 2 Axes>"
      ]
     },
     "metadata": {},
     "output_type": "display_data"
    }
   ],
   "source": [
    "plt.figure(figsize=(4, 3))\n",
    "sns.heatmap(confusion_matrix(y, pred),\n",
    "                annot=True,\n",
    "                fmt='.0f',\n",
    "                annot_kws={'fontsize': 10, 'fontweight': 'bold'},\n",
    "                cmap='PuRd',\n",
    "                xticklabels=list(range(2)),\n",
    "                yticklabels=list(range(2)))\n",
    "plt.title('Confusion Matrix', fontsize=16, fontweight='bold')\n",
    "plt.xlabel('Predicted', fontsize=14)\n",
    "plt.ylabel('Real', fontsize=14)\n",
    "plt.yticks(rotation=0);\n"
   ]
  },
  {
   "cell_type": "markdown",
   "metadata": {},
   "source": [
    "# RNN 1"
   ]
  },
  {
   "cell_type": "code",
   "execution_count": 1,
   "metadata": {},
   "outputs": [],
   "source": [
    "from tensorflow.keras.models import Sequential\n",
    "from tensorflow.keras.layers import Dense, Embedding, Input, GRU, Dropout\n"
   ]
  },
  {
   "cell_type": "code",
   "execution_count": 2,
   "metadata": {},
   "outputs": [
    {
     "name": "stdout",
     "output_type": "stream",
     "text": [
      "Model: \"RNN\"\n",
      "_________________________________________________________________\n",
      " Layer (type)                Output Shape              Param #   \n",
      "=================================================================\n",
      " embedding (Embedding)       (None, 500, 64)           640000    \n",
      "                                                                 \n",
      " gru (GRU)                   (None, 500, 128)          74496     \n",
      "                                                                 \n",
      " gru_1 (GRU)                 (None, 128)               99072     \n",
      "                                                                 \n",
      " dense (Dense)               (None, 128)               16512     \n",
      "                                                                 \n",
      " dropout (Dropout)           (None, 128)               0         \n",
      "                                                                 \n",
      " dense_1 (Dense)             (None, 32)                4128      \n",
      "                                                                 \n",
      " dropout_1 (Dropout)         (None, 32)                0         \n",
      "                                                                 \n",
      " dense_2 (Dense)             (None, 1)                 33        \n",
      "                                                                 \n",
      "=================================================================\n",
      "Total params: 834241 (3.18 MB)\n",
      "Trainable params: 834241 (3.18 MB)\n",
      "Non-trainable params: 0 (0.00 Byte)\n",
      "_________________________________________________________________\n"
     ]
    }
   ],
   "source": [
    "rnn1 = Sequential(name='RNN')\n",
    "rnn1.add(Input(shape=(500,)))\n",
    "rnn1.add(Embedding(10000, 64))\n",
    "rnn1.add(GRU(128, return_sequences=True))\n",
    "rnn1.add(GRU(128)),\n",
    "rnn1.add(Dense(128, activation='relu'))\n",
    "rnn1.add(Dropout(0.2))\n",
    "rnn1.add(Dense(32, activation='relu'))\n",
    "rnn1.add(Dropout(0.2))\n",
    "rnn1.add(Dense(1, activation='sigmoid'))\n",
    "rnn1.load_weights('RNN/weights_RNN1.h5')\n",
    "rnn1.summary()\n"
   ]
  },
  {
   "cell_type": "code",
   "execution_count": 16,
   "metadata": {},
   "outputs": [],
   "source": [
    "f = open('tokenizer_config.json')\n",
    "tokenizer_config = json.load(f)\n",
    "tokenizer = tokenizer_from_json(tokenizer_config)\n"
   ]
  },
  {
   "cell_type": "markdown",
   "metadata": {},
   "source": [
    "## Small Example"
   ]
  },
  {
   "cell_type": "code",
   "execution_count": 18,
   "metadata": {},
   "outputs": [],
   "source": [
    "input_texts_nn = [preprocess(text) for text in input_texts]\n"
   ]
  },
  {
   "cell_type": "code",
   "execution_count": 26,
   "metadata": {},
   "outputs": [
    {
     "name": "stdout",
     "output_type": "stream",
     "text": [
      "Input: Melhor biquini que ja comprei na shopee até hoje, achei o M bem grande, só não posso abusar no sol. Tecido e costura perfeitos! Compraria novamente\n",
      "Output: 1\t Correct: 1\n",
      "\n",
      "Input: O biquíni todo descosturado, qualidade do material também não gostei muito, pelo valor que paguei poderia ser melhor. Achei falta de respeito com o cliente. Não recomendo essa loja. Apenas as cores que foi como pedi.\n",
      "Output: 0\t Correct: 0\n",
      "\n",
      "Input: O produto veio muito bem embalado.Chegou em perfeitas condições e antes do prazo estabelecido.   O teclado é perfeito, igual ao anúncio.  Fácil de instalar e usar. Super recomendo.\n",
      "Output: 1\t Correct: 1\n",
      "\n",
      "Input: Teclado fiel ao anúncio porem infelizmente dei o azar de vir com defeito, duas teclas nao funcionam direito e infelizmente não é possivel trocar o switch chateado pois perdi dinheiro, imagino que a maioria dos teclados chegou certinho, mas n dei muita sorte, tirando isso o produto tem uma boa qualidade\n",
      "Output: 1\t Correct: 0\n",
      "\n",
      "Input: Produto com qualidade, não é transparente, recomendo\n",
      "Output: 1\t Correct: 1\n",
      "\n",
      "Input: Tecido fino, mas pelo valor pago está valendo. Parabéns no prazo de entrega. Chegou em menos de uma semana sendo de outro estado\n",
      "Output: 0\t Correct: 1\n",
      "\n",
      "Input: Não comprem mais que uma peça! Eles não mandam tudo como no anúncio, mandaram uma cinza como no anúncio e outras duas preta e azul escuro que são inferiores de material ruim, fino, transparente... Infelizmente não tem troco nem devolução do dinheiro então teria que devolver tudo, no geral foi uma experiência ruim.\n",
      "Output: 0\t Correct: 0\n",
      "\n"
     ]
    }
   ],
   "source": [
    "for i in range(len(input_texts)):\n",
    "    print(f'Input: {input_texts[i]}')\n",
    "    print(f'Output: {1 if rnn1.predict(input_texts_nn[i], verbose=0)[0][0] >= 0.5 else 0}\\t Correct: {correct[i]}\\n')\n"
   ]
  },
  {
   "cell_type": "markdown",
   "metadata": {},
   "source": [
    "## Huge Example"
   ]
  },
  {
   "cell_type": "code",
   "execution_count": 20,
   "metadata": {},
   "outputs": [
    {
     "name": "stderr",
     "output_type": "stream",
     "text": [
      "100%|██████████| 1196620/1196620 [02:27<00:00, 8097.32it/s]\n"
     ]
    }
   ],
   "source": [
    "rnn_tokens = [preprocess(X[i]) for i in tqdm(range(len(X)))]\n"
   ]
  },
  {
   "cell_type": "code",
   "execution_count": 21,
   "metadata": {},
   "outputs": [],
   "source": [
    "pred = rnn1.predict(np.array(rnn_tokens).reshape(-1, 500), verbose=None)\n",
    "pred = np.where(pred >= 0.5, 1, 0).reshape(-1)\n"
   ]
  },
  {
   "cell_type": "code",
   "execution_count": 22,
   "metadata": {},
   "outputs": [
    {
     "data": {
      "text/plain": [
       "95.28179371897511"
      ]
     },
     "execution_count": 22,
     "metadata": {},
     "output_type": "execute_result"
    }
   ],
   "source": [
    "(sum(pred == y) / len(y)) * 100\n"
   ]
  },
  {
   "cell_type": "code",
   "execution_count": 23,
   "metadata": {},
   "outputs": [
    {
     "name": "stdout",
     "output_type": "stream",
     "text": [
      "              precision    recall  f1-score   support\n",
      "\n",
      "           0       0.90      0.89      0.90    272090\n",
      "           1       0.97      0.97      0.97    924530\n",
      "\n",
      "    accuracy                           0.95   1196620\n",
      "   macro avg       0.93      0.93      0.93   1196620\n",
      "weighted avg       0.95      0.95      0.95   1196620\n",
      "\n"
     ]
    }
   ],
   "source": [
    "print(classification_report(y, pred))\n"
   ]
  },
  {
   "cell_type": "code",
   "execution_count": 24,
   "metadata": {},
   "outputs": [
    {
     "data": {
      "image/png": "[encoded data removed]",
      "text/plain": [
       "<Figure size 400x300 with 2 Axes>"
      ]
     },
     "metadata": {},
     "output_type": "display_data"
    }
   ],
   "source": [
    "plt.figure(figsize=(4, 3))\n",
    "sns.heatmap(confusion_matrix(y, pred),\n",
    "                annot=True,\n",
    "                fmt='.0f',\n",
    "                annot_kws={'fontsize': 10, 'fontweight': 'bold'},\n",
    "                cmap='PuRd',\n",
    "                xticklabels=list(range(2)),\n",
    "                yticklabels=list(range(2)))\n",
    "plt.title('Confusion Matrix', fontsize=16, fontweight='bold')\n",
    "plt.xlabel('Predicted', fontsize=14)\n",
    "plt.ylabel('Real', fontsize=14)\n",
    "plt.yticks(rotation=0);\n"
   ]
  },
  {
   "cell_type": "markdown",
   "metadata": {},
   "source": [
    "# RNN v2 (dropout on GRU)"
   ]
  },
  {
   "cell_type": "code",
   "execution_count": 3,
   "metadata": {},
   "outputs": [],
   "source": [
    "from tensorflow.keras.models import Sequential\n",
    "from tensorflow.keras.layers import Dense, Embedding, Input, GRU, Dropout\n"
   ]
  },
  {
   "cell_type": "code",
   "execution_count": 4,
   "metadata": {},
   "outputs": [
    {
     "name": "stdout",
     "output_type": "stream",
     "text": [
      "Model: \"RNN 2\"\n",
      "_________________________________________________________________\n",
      " Layer (type)                Output Shape              Param #   \n",
      "=================================================================\n",
      " embedding_1 (Embedding)     (None, 500, 64)           640000    \n",
      "                                                                 \n",
      " gru_2 (GRU)                 (None, 500, 128)          74496     \n",
      "                                                                 \n",
      " gru_3 (GRU)                 (None, 128)               99072     \n",
      "                                                                 \n",
      " dense_3 (Dense)             (None, 128)               16512     \n",
      "                                                                 \n",
      " dropout_2 (Dropout)         (None, 128)               0         \n",
      "                                                                 \n",
      " dense_4 (Dense)             (None, 32)                4128      \n",
      "                                                                 \n",
      " dropout_3 (Dropout)         (None, 32)                0         \n",
      "                                                                 \n",
      " dense_5 (Dense)             (None, 1)                 33        \n",
      "                                                                 \n",
      "=================================================================\n",
      "Total params: 834241 (3.18 MB)\n",
      "Trainable params: 834241 (3.18 MB)\n",
      "Non-trainable params: 0 (0.00 Byte)\n",
      "_________________________________________________________________\n"
     ]
    }
   ],
   "source": [
    "rnn2 = Sequential(name='RNN 2')\n",
    "rnn2.add(Input(shape=(500,)))\n",
    "rnn2.add(Embedding(10000, 64))\n",
    "rnn2.add(GRU(128, return_sequences=True, dropout=0.1))\n",
    "rnn2.add(GRU(128, dropout=0.2)),\n",
    "rnn2.add(Dense(128, activation='relu'))\n",
    "rnn2.add(Dropout(0.2))\n",
    "rnn2.add(Dense(32, activation='relu'))\n",
    "rnn2.add(Dropout(0.2))\n",
    "rnn2.add(Dense(1, activation='sigmoid'))\n",
    "rnn2.load_weights('RNN/weights_RNN2.h5')\n",
    "rnn2.summary()\n"
   ]
  },
  {
   "cell_type": "code",
   "execution_count": 12,
   "metadata": {},
   "outputs": [],
   "source": [
    "f = open('tokenizer_config.json')\n",
    "tokenizer_config = json.load(f)\n",
    "tokenizer = tokenizer_from_json(tokenizer_config)\n"
   ]
  },
  {
   "cell_type": "markdown",
   "metadata": {},
   "source": [
    "## Small Example"
   ]
  },
  {
   "cell_type": "code",
   "execution_count": 13,
   "metadata": {},
   "outputs": [],
   "source": [
    "input_texts_nn = [preprocess(text) for text in input_texts]\n"
   ]
  },
  {
   "cell_type": "code",
   "execution_count": 14,
   "metadata": {},
   "outputs": [
    {
     "name": "stdout",
     "output_type": "stream",
     "text": [
      "Input: Melhor biquini que ja comprei na shopee até hoje, achei o M bem grande, só não posso abusar no sol. Tecido e costura perfeitos! Compraria novamente\n",
      "Output: 1\t Correct: 1\n",
      "\n",
      "Input: O biquíni todo descosturado, qualidade do material também não gostei muito, pelo valor que paguei poderia ser melhor. Achei falta de respeito com o cliente. Não recomendo essa loja. Apenas as cores que foi como pedi.\n",
      "Output: 0\t Correct: 0\n",
      "\n",
      "Input: O produto veio muito bem embalado.Chegou em perfeitas condições e antes do prazo estabelecido.   O teclado é perfeito, igual ao anúncio.  Fácil de instalar e usar. Super recomendo.\n",
      "Output: 1\t Correct: 1\n",
      "\n",
      "Input: Teclado fiel ao anúncio porem infelizmente dei o azar de vir com defeito, duas teclas nao funcionam direito e infelizmente não é possivel trocar o switch chateado pois perdi dinheiro, imagino que a maioria dos teclados chegou certinho, mas n dei muita sorte, tirando isso o produto tem uma boa qualidade\n",
      "Output: 1\t Correct: 0\n",
      "\n",
      "Input: Produto com qualidade, não é transparente, recomendo\n",
      "Output: 1\t Correct: 1\n",
      "\n",
      "Input: Tecido fino, mas pelo valor pago está valendo. Parabéns no prazo de entrega. Chegou em menos de uma semana sendo de outro estado\n",
      "Output: 0\t Correct: 1\n",
      "\n",
      "Input: Não comprem mais que uma peça! Eles não mandam tudo como no anúncio, mandaram uma cinza como no anúncio e outras duas preta e azul escuro que são inferiores de material ruim, fino, transparente... Infelizmente não tem troco nem devolução do dinheiro então teria que devolver tudo, no geral foi uma experiência ruim.\n",
      "Output: 0\t Correct: 0\n",
      "\n"
     ]
    }
   ],
   "source": [
    "for i in range(len(input_texts)):\n",
    "    print(f'Input: {input_texts[i]}')\n",
    "    print(f'Output: {1 if rnn2.predict(input_texts_nn[i], verbose=0)[0][0] >= 0.5 else 0}\\t Correct: {correct[i]}\\n')\n"
   ]
  },
  {
   "cell_type": "markdown",
   "metadata": {},
   "source": [
    "## Huge Example"
   ]
  },
  {
   "cell_type": "code",
   "execution_count": 15,
   "metadata": {},
   "outputs": [
    {
     "name": "stderr",
     "output_type": "stream",
     "text": [
      "  0%|          | 0/1196620 [00:00<?, ?it/s]"
     ]
    },
    {
     "name": "stderr",
     "output_type": "stream",
     "text": [
      "100%|██████████| 1196620/1196620 [02:41<00:00, 7415.41it/s]\n"
     ]
    }
   ],
   "source": [
    "rnn_tokens = [preprocess(X[i]) for i in tqdm(range(len(X)))]\n"
   ]
  },
  {
   "cell_type": "code",
   "execution_count": 22,
   "metadata": {},
   "outputs": [],
   "source": [
    "pred = rnn2.predict(np.array(rnn_tokens).reshape(-1, 500), verbose=None)\n",
    "pred = np.where(pred >= 0.5, 1, 0).reshape(-1)\n"
   ]
  },
  {
   "cell_type": "code",
   "execution_count": 23,
   "metadata": {},
   "outputs": [
    {
     "data": {
      "text/plain": [
       "94.81798733098226"
      ]
     },
     "execution_count": 23,
     "metadata": {},
     "output_type": "execute_result"
    }
   ],
   "source": [
    "(sum(pred == y) / len(y)) * 100\n"
   ]
  },
  {
   "cell_type": "code",
   "execution_count": 24,
   "metadata": {},
   "outputs": [
    {
     "name": "stdout",
     "output_type": "stream",
     "text": [
      "              precision    recall  f1-score   support\n",
      "\n",
      "           0       0.89      0.88      0.89    272090\n",
      "           1       0.96      0.97      0.97    924530\n",
      "\n",
      "    accuracy                           0.95   1196620\n",
      "   macro avg       0.93      0.92      0.93   1196620\n",
      "weighted avg       0.95      0.95      0.95   1196620\n",
      "\n"
     ]
    }
   ],
   "source": [
    "print(classification_report(y, pred))\n"
   ]
  },
  {
   "cell_type": "code",
   "execution_count": 25,
   "metadata": {},
   "outputs": [
    {
     "data": {
      "image/png": "[encoded data removed]",
      "text/plain": [
       "<Figure size 400x300 with 2 Axes>"
      ]
     },
     "metadata": {},
     "output_type": "display_data"
    }
   ],
   "source": [
    "plt.figure(figsize=(4, 3))\n",
    "sns.heatmap(confusion_matrix(y, pred),\n",
    "                annot=True,\n",
    "                fmt='.0f',\n",
    "                annot_kws={'fontsize': 10, 'fontweight': 'bold'},\n",
    "                cmap='PuRd',\n",
    "                xticklabels=list(range(2)),\n",
    "                yticklabels=list(range(2)))\n",
    "plt.title('Confusion Matrix', fontsize=16, fontweight='bold')\n",
    "plt.xlabel('Predicted', fontsize=14)\n",
    "plt.ylabel('Real', fontsize=14)\n",
    "plt.yticks(rotation=0);\n"
   ]
  },
  {
   "cell_type": "markdown",
   "metadata": {},
   "source": [
    "# Bidirectional LSTM\n"
   ]
  },
  {
   "cell_type": "code",
   "execution_count": 1,
   "metadata": {},
   "outputs": [],
   "source": [
    "from tensorflow.keras.models import Sequential\n",
    "from tensorflow.keras.layers import Dense, Embedding, Dropout, LSTM, Bidirectional, BatchNormalization\n"
   ]
  },
  {
   "cell_type": "code",
   "execution_count": 2,
   "metadata": {},
   "outputs": [
    {
     "name": "stdout",
     "output_type": "stream",
     "text": [
      "Model: \"BiLSTM 1\"\n",
      "_________________________________________________________________\n",
      " Layer (type)                Output Shape              Param #   \n",
      "=================================================================\n",
      " embedding (Embedding)       (None, None, 64)          640000    \n",
      "                                                                 \n",
      " bidirectional (Bidirection  (None, None, 200)         132000    \n",
      " al)                                                             \n",
      "                                                                 \n",
      " batch_normalization (Batch  (None, None, 200)         800       \n",
      " Normalization)                                                  \n",
      "                                                                 \n",
      " bidirectional_1 (Bidirecti  (None, 64)                59648     \n",
      " onal)                                                           \n",
      "                                                                 \n",
      " dropout (Dropout)           (None, 64)                0         \n",
      "                                                                 \n",
      " dense (Dense)               (None, 256)               16640     \n",
      "                                                                 \n",
      " dropout_1 (Dropout)         (None, 256)               0         \n",
      "                                                                 \n",
      " dense_1 (Dense)             (None, 1)                 257       \n",
      "                                                                 \n",
      "=================================================================\n",
      "Total params: 849345 (3.24 MB)\n",
      "Trainable params: 848945 (3.24 MB)\n",
      "Non-trainable params: 400 (1.56 KB)\n",
      "_________________________________________________________________\n"
     ]
    }
   ],
   "source": [
    "bilstm1 = Sequential(name='BiLSTM 1')\n",
    "bilstm1.add(Embedding(10000, 64))\n",
    "bilstm1.add(Bidirectional(LSTM(100, return_sequences=True)))\n",
    "bilstm1.add(BatchNormalization())\n",
    "bilstm1.add(Bidirectional(LSTM(32)))\n",
    "bilstm1.add(Dropout(0.1))\n",
    "bilstm1.add(Dense(256, activation=\"relu\"))\n",
    "bilstm1.add(Dropout(0.2))\n",
    "bilstm1.add(Dense(1, activation=\"sigmoid\"))\n",
    "bilstm1.load_weights('BILSTM/weights_BILSTM_v1.h5')\n",
    "bilstm1.summary()\n"
   ]
  },
  {
   "cell_type": "code",
   "execution_count": 11,
   "metadata": {},
   "outputs": [],
   "source": [
    "f = open('tokenizer_config.json')\n",
    "tokenizer_config = json.load(f)\n",
    "tokenizer = tokenizer_from_json(tokenizer_config)\n"
   ]
  },
  {
   "cell_type": "markdown",
   "metadata": {},
   "source": [
    "## Small Example"
   ]
  },
  {
   "cell_type": "code",
   "execution_count": 14,
   "metadata": {},
   "outputs": [],
   "source": [
    "input_texts_nn = [preprocess(text) for text in input_texts]\n"
   ]
  },
  {
   "cell_type": "code",
   "execution_count": 15,
   "metadata": {},
   "outputs": [
    {
     "name": "stdout",
     "output_type": "stream",
     "text": [
      "Input: Melhor biquini que ja comprei na shopee até hoje, achei o M bem grande, só não posso abusar no sol. Tecido e costura perfeitos! Compraria novamente\n",
      "Output: 1\t Correct: 1\n",
      "\n",
      "Input: O biquíni todo descosturado, qualidade do material também não gostei muito, pelo valor que paguei poderia ser melhor. Achei falta de respeito com o cliente. Não recomendo essa loja. Apenas as cores que foi como pedi.\n",
      "Output: 0\t Correct: 0\n",
      "\n",
      "Input: O produto veio muito bem embalado.Chegou em perfeitas condições e antes do prazo estabelecido.   O teclado é perfeito, igual ao anúncio.  Fácil de instalar e usar. Super recomendo.\n",
      "Output: 1\t Correct: 1\n",
      "\n",
      "Input: Teclado fiel ao anúncio porem infelizmente dei o azar de vir com defeito, duas teclas nao funcionam direito e infelizmente não é possivel trocar o switch chateado pois perdi dinheiro, imagino que a maioria dos teclados chegou certinho, mas n dei muita sorte, tirando isso o produto tem uma boa qualidade\n",
      "Output: 0\t Correct: 0\n",
      "\n",
      "Input: Produto com qualidade, não é transparente, recomendo\n",
      "Output: 1\t Correct: 1\n",
      "\n",
      "Input: Tecido fino, mas pelo valor pago está valendo. Parabéns no prazo de entrega. Chegou em menos de uma semana sendo de outro estado\n",
      "Output: 1\t Correct: 1\n",
      "\n",
      "Input: Não comprem mais que uma peça! Eles não mandam tudo como no anúncio, mandaram uma cinza como no anúncio e outras duas preta e azul escuro que são inferiores de material ruim, fino, transparente... Infelizmente não tem troco nem devolução do dinheiro então teria que devolver tudo, no geral foi uma experiência ruim.\n",
      "Output: 0\t Correct: 0\n",
      "\n"
     ]
    }
   ],
   "source": [
    "for i in range(len(input_texts)):\n",
    "    print(f'Input: {input_texts[i]}')\n",
    "    print(f'Output: {1 if bilstm1.predict(input_texts_nn[i], verbose=0)[0][0] >= 0.5 else 0}\\t Correct: {correct[i]}\\n')\n"
   ]
  },
  {
   "cell_type": "markdown",
   "metadata": {},
   "source": [
    "## Huge Example"
   ]
  },
  {
   "cell_type": "code",
   "execution_count": 16,
   "metadata": {},
   "outputs": [
    {
     "name": "stderr",
     "output_type": "stream",
     "text": [
      "100%|██████████| 1196620/1196620 [02:29<00:00, 8022.39it/s]\n"
     ]
    }
   ],
   "source": [
    "tokens = [preprocess(X[i]) for i in tqdm(range(len(X)))]\n"
   ]
  },
  {
   "cell_type": "code",
   "execution_count": 17,
   "metadata": {},
   "outputs": [],
   "source": [
    "pred = bilstm1.predict(np.array(tokens).reshape(-1, 500), verbose=None)\n",
    "pred = np.where(pred >= 0.5, 1, 0).reshape(-1)\n"
   ]
  },
  {
   "cell_type": "code",
   "execution_count": 18,
   "metadata": {},
   "outputs": [
    {
     "data": {
      "text/plain": [
       "95.17708211462286"
      ]
     },
     "execution_count": 18,
     "metadata": {},
     "output_type": "execute_result"
    }
   ],
   "source": [
    "(sum(pred == y) / len(y)) * 100\n"
   ]
  },
  {
   "cell_type": "code",
   "execution_count": 19,
   "metadata": {},
   "outputs": [
    {
     "name": "stdout",
     "output_type": "stream",
     "text": [
      "              precision    recall  f1-score   support\n",
      "\n",
      "           0       0.91      0.87      0.89    272090\n",
      "           1       0.96      0.97      0.97    924530\n",
      "\n",
      "    accuracy                           0.95   1196620\n",
      "   macro avg       0.94      0.92      0.93   1196620\n",
      "weighted avg       0.95      0.95      0.95   1196620\n",
      "\n"
     ]
    }
   ],
   "source": [
    "print(classification_report(y, pred))\n"
   ]
  },
  {
   "cell_type": "code",
   "execution_count": 20,
   "metadata": {},
   "outputs": [
    {
     "data": {
      "image/png": "[encoded data removed]",
      "text/plain": [
       "<Figure size 400x300 with 2 Axes>"
      ]
     },
     "metadata": {},
     "output_type": "display_data"
    }
   ],
   "source": [
    "plt.figure(figsize=(4, 3))\n",
    "sns.heatmap(confusion_matrix(y, pred),\n",
    "                annot=True,\n",
    "                fmt='.0f',\n",
    "                annot_kws={'fontsize': 10, 'fontweight': 'bold'},\n",
    "                cmap='PuRd',\n",
    "                xticklabels=list(range(2)),\n",
    "                yticklabels=list(range(2)))\n",
    "plt.title('Confusion Matrix', fontsize=16, fontweight='bold')\n",
    "plt.xlabel('Predicted', fontsize=14)\n",
    "plt.ylabel('Real', fontsize=14)\n",
    "plt.yticks(rotation=0);\n"
   ]
  },
  {
   "cell_type": "markdown",
   "metadata": {},
   "source": [
    "# Bidirectional LSTM 2\n",
    "Different architecture from the first"
   ]
  },
  {
   "cell_type": "code",
   "execution_count": 1,
   "metadata": {},
   "outputs": [],
   "source": [
    "from tensorflow.keras.models import Sequential\n",
    "from tensorflow.keras.layers import Dense, Embedding, Dropout, LSTM, Bidirectional, BatchNormalization\n"
   ]
  },
  {
   "cell_type": "code",
   "execution_count": 2,
   "metadata": {},
   "outputs": [
    {
     "name": "stdout",
     "output_type": "stream",
     "text": [
      "Model: \"BiLSTM 2\"\n",
      "_________________________________________________________________\n",
      " Layer (type)                Output Shape              Param #   \n",
      "=================================================================\n",
      " embedding (Embedding)       (None, None, 64)          640000    \n",
      "                                                                 \n",
      " bidirectional (Bidirection  (None, None, 64)          24832     \n",
      " al)                                                             \n",
      "                                                                 \n",
      " batch_normalization (Batch  (None, None, 64)          256       \n",
      " Normalization)                                                  \n",
      "                                                                 \n",
      " bidirectional_1 (Bidirecti  (None, 128)               66048     \n",
      " onal)                                                           \n",
      "                                                                 \n",
      " dense (Dense)               (None, 256)               33024     \n",
      "                                                                 \n",
      " dropout (Dropout)           (None, 256)               0         \n",
      "                                                                 \n",
      " dense_1 (Dense)             (None, 1)                 257       \n",
      "                                                                 \n",
      "=================================================================\n",
      "Total params: 764417 (2.92 MB)\n",
      "Trainable params: 764289 (2.92 MB)\n",
      "Non-trainable params: 128 (512.00 Byte)\n",
      "_________________________________________________________________\n"
     ]
    }
   ],
   "source": [
    "bilstm2 = Sequential(name='BiLSTM 2')\n",
    "bilstm2.add(Embedding(10000, 64))\n",
    "bilstm2.add(Bidirectional(LSTM(32, return_sequences=True)))\n",
    "bilstm2.add(BatchNormalization())\n",
    "bilstm2.add(Bidirectional(LSTM(64, dropout=0.1)))\n",
    "bilstm2.add(Dense(256, activation=\"relu\"))\n",
    "bilstm2.add(Dropout(0.2))\n",
    "bilstm2.add(Dense(1, activation=\"sigmoid\"))\n",
    "bilstm2.load_weights('BILSTM/weights_BILSTM_v2.h5')\n",
    "bilstm2.summary()\n"
   ]
  },
  {
   "cell_type": "code",
   "execution_count": 2,
   "metadata": {},
   "outputs": [],
   "source": [
    "f = open('tokenizer_config.json')\n",
    "tokenizer_config = json.load(f)\n",
    "tokenizer = tokenizer_from_json(tokenizer_config)\n"
   ]
  },
  {
   "cell_type": "markdown",
   "metadata": {},
   "source": [
    "## Small Example"
   ]
  },
  {
   "cell_type": "code",
   "execution_count": 11,
   "metadata": {},
   "outputs": [],
   "source": [
    "input_texts_nn = [preprocess(text) for text in input_texts]\n"
   ]
  },
  {
   "cell_type": "code",
   "execution_count": 12,
   "metadata": {},
   "outputs": [
    {
     "name": "stdout",
     "output_type": "stream",
     "text": [
      "Input: Melhor biquini que ja comprei na shopee até hoje, achei o M bem grande, só não posso abusar no sol. Tecido e costura perfeitos! Compraria novamente\n",
      "Output: 1\t Correct: 1\n",
      "\n",
      "Input: O biquíni todo descosturado, qualidade do material também não gostei muito, pelo valor que paguei poderia ser melhor. Achei falta de respeito com o cliente. Não recomendo essa loja. Apenas as cores que foi como pedi.\n",
      "Output: 0\t Correct: 0\n",
      "\n",
      "Input: O produto veio muito bem embalado.Chegou em perfeitas condições e antes do prazo estabelecido.   O teclado é perfeito, igual ao anúncio.  Fácil de instalar e usar. Super recomendo.\n",
      "Output: 1\t Correct: 1\n",
      "\n",
      "Input: Teclado fiel ao anúncio porem infelizmente dei o azar de vir com defeito, duas teclas nao funcionam direito e infelizmente não é possivel trocar o switch chateado pois perdi dinheiro, imagino que a maioria dos teclados chegou certinho, mas n dei muita sorte, tirando isso o produto tem uma boa qualidade\n",
      "Output: 0\t Correct: 0\n",
      "\n",
      "Input: Produto com qualidade, não é transparente, recomendo\n",
      "Output: 1\t Correct: 1\n",
      "\n",
      "Input: Tecido fino, mas pelo valor pago está valendo. Parabéns no prazo de entrega. Chegou em menos de uma semana sendo de outro estado\n",
      "Output: 0\t Correct: 1\n",
      "\n",
      "Input: Não comprem mais que uma peça! Eles não mandam tudo como no anúncio, mandaram uma cinza como no anúncio e outras duas preta e azul escuro que são inferiores de material ruim, fino, transparente... Infelizmente não tem troco nem devolução do dinheiro então teria que devolver tudo, no geral foi uma experiência ruim.\n",
      "Output: 0\t Correct: 0\n",
      "\n"
     ]
    }
   ],
   "source": [
    "for i in range(len(input_texts)):\n",
    "    print(f'Input: {input_texts[i]}')\n",
    "    print(f'Output: {1 if bilstm2.predict(input_texts_nn[i], verbose=0)[0][0] >= 0.5 else 0}\\t Correct: {correct[i]}\\n')\n"
   ]
  },
  {
   "cell_type": "markdown",
   "metadata": {},
   "source": [
    "## Huge Example"
   ]
  },
  {
   "cell_type": "code",
   "execution_count": 13,
   "metadata": {},
   "outputs": [
    {
     "name": "stderr",
     "output_type": "stream",
     "text": [
      "100%|██████████| 1196620/1196620 [02:23<00:00, 8357.78it/s]\n"
     ]
    }
   ],
   "source": [
    "tokens = [preprocess(X[i]) for i in tqdm(range(len(X)))]\n"
   ]
  },
  {
   "cell_type": "code",
   "execution_count": 14,
   "metadata": {},
   "outputs": [],
   "source": [
    "pred = bilstm2.predict(np.array(tokens).reshape(-1, 500), verbose=None)\n",
    "pred = np.where(pred >= 0.5, 1, 0).reshape(-1)\n"
   ]
  },
  {
   "cell_type": "code",
   "execution_count": 15,
   "metadata": {},
   "outputs": [
    {
     "data": {
      "text/plain": [
       "95.04270361518277"
      ]
     },
     "execution_count": 15,
     "metadata": {},
     "output_type": "execute_result"
    }
   ],
   "source": [
    "(sum(pred == y) / len(y)) * 100\n"
   ]
  },
  {
   "cell_type": "code",
   "execution_count": 16,
   "metadata": {},
   "outputs": [
    {
     "name": "stdout",
     "output_type": "stream",
     "text": [
      "              precision    recall  f1-score   support\n",
      "\n",
      "           0       0.90      0.89      0.89    272090\n",
      "           1       0.97      0.97      0.97    924530\n",
      "\n",
      "    accuracy                           0.95   1196620\n",
      "   macro avg       0.93      0.93      0.93   1196620\n",
      "weighted avg       0.95      0.95      0.95   1196620\n",
      "\n"
     ]
    }
   ],
   "source": [
    "print(classification_report(y, pred))\n"
   ]
  },
  {
   "cell_type": "code",
   "execution_count": 17,
   "metadata": {},
   "outputs": [
    {
     "data": {
      "image/png": "[encoded data removed]",
      "text/plain": [
       "<Figure size 400x300 with 2 Axes>"
      ]
     },
     "metadata": {},
     "output_type": "display_data"
    }
   ],
   "source": [
    "plt.figure(figsize=(4, 3))\n",
    "sns.heatmap(confusion_matrix(y, pred),\n",
    "                annot=True,\n",
    "                fmt='.0f',\n",
    "                annot_kws={'fontsize': 10, 'fontweight': 'bold'},\n",
    "                cmap='PuRd',\n",
    "                xticklabels=list(range(2)),\n",
    "                yticklabels=list(range(2)))\n",
    "plt.title('Confusion Matrix', fontsize=16, fontweight='bold')\n",
    "plt.xlabel('Predicted', fontsize=14)\n",
    "plt.ylabel('Real', fontsize=14)\n",
    "plt.yticks(rotation=0);\n"
   ]
  },
  {
   "cell_type": "markdown",
   "metadata": {},
   "source": [
    "# RESULTS"
   ]
  },
  {
   "cell_type": "markdown",
   "metadata": {},
   "source": [
    "* MLP 1\n",
    "    * Small: 7/7\n",
    "    * Huge: 92.56%\n",
    "<br> <br>\n",
    "* MLP 2\n",
    "    * Small: 5/7\n",
    "    * Huge: 93.32%\n",
    "<br> <br>\n",
    "* Convolutional\n",
    "    * Small: 7/7\n",
    "    * Huge: 90.57%\n",
    " <br> <br>\n",
    "* RNN 1\n",
    "    * Small: 5/7\n",
    "    * Huge: 95.28%\n",
    " <br> <br>\n",
    "* RNN v2\n",
    "    * Small: 5/7\n",
    "    * Huge: 94.81%\n",
    " <br> <br>\n",
    "* Bidirectional LSTM 1\n",
    "    * Small: 7/7\n",
    "    * Huge: 95.17%\n",
    " <br> <br>\n",
    "* Bidirectional LSTM 2\n",
    "    * Small: 6/7\n",
    "    * Huge: 95.04%\n"
   ]
  }
 ],
 "metadata": {
  "kernelspec": {
   "display_name": "AI_Tools",
   "language": "python",
   "name": "python3"
  },
  "language_info": {
   "codemirror_mode": {
    "name": "ipython",
    "version": 3
   },
   "file_extension": ".py",
   "mimetype": "text/x-python",
   "name": "python",
   "nbconvert_exporter": "python",
   "pygments_lexer": "ipython3",
   "version": "3.11.4"
  }
 },
 "nbformat": 4,
 "nbformat_minor": 2
}
